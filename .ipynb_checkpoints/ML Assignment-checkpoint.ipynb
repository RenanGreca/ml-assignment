{
 "cells": [
  {
   "cell_type": "code",
   "execution_count": 44,
   "metadata": {},
   "outputs": [],
   "source": [
    "import pandas as pd\n",
    "import numpy as np\n",
    "from sklearn.model_selection import train_test_split"
   ]
  },
  {
   "cell_type": "code",
   "execution_count": 45,
   "metadata": {},
   "outputs": [],
   "source": [
    "dataset = pd.read_csv(\"dataset.csv\")\n",
    "\n",
    "X, y = dataset.iloc[:, :-1], dataset.iloc[:, -1]\n",
    "X_train, X_test, y_train, y_test = train_test_split(X, y, train_size=200, test_size=47, random_state=1)"
   ]
  },
  {
   "cell_type": "markdown",
   "metadata": {},
   "source": [
    "# Linear Regression\n",
    "\n",
    "The first step is to apply linear regression. To do this, we use `scikit-learn`'s `LinearRegression` module."
   ]
  },
  {
   "cell_type": "code",
   "execution_count": 23,
   "metadata": {},
   "outputs": [],
   "source": [
    "from sklearn.linear_model import LinearRegression\n",
    "\n",
    "lr = LinearRegression().fit(X_train, y_train)"
   ]
  },
  {
   "cell_type": "code",
   "execution_count": 30,
   "metadata": {},
   "outputs": [
    {
     "name": "stdout",
     "output_type": "stream",
     "text": [
      "Training test score: 1.00\n",
      "Test test score: 0.99\n"
     ]
    }
   ],
   "source": [
    "print(\"Training test score: {:.2f}\".format(lr.score(X_train, y_train)))\n",
    "print(\"Test test score: {:.2f}\".format(lr.score(X_test, y_test)))"
   ]
  },
  {
   "cell_type": "markdown",
   "metadata": {},
   "source": [
    "### Cross-Validation"
   ]
  },
  {
   "cell_type": "code",
   "execution_count": 40,
   "metadata": {},
   "outputs": [
    {
     "name": "stdout",
     "output_type": "stream",
     "text": [
      "Cross-validation score: 0.9551299993016309\n"
     ]
    }
   ],
   "source": [
    "from sklearn.model_selection import cross_val_score\n",
    "\n",
    "lr = LinearRegression()\n",
    "scores = cross_val_score(lr, X, y, cv=10, n_jobs=-1)\n",
    "\n",
    "print(\"Cross-validation score: {}\".format(scores.mean()))"
   ]
  },
  {
   "cell_type": "markdown",
   "metadata": {},
   "source": [
    "## Ridge Regression"
   ]
  },
  {
   "cell_type": "code",
   "execution_count": 31,
   "metadata": {},
   "outputs": [],
   "source": [
    "from sklearn.linear_model import Ridge\n",
    "\n",
    "ridge = Ridge().fit(X_train, y_train)"
   ]
  },
  {
   "cell_type": "code",
   "execution_count": 32,
   "metadata": {},
   "outputs": [
    {
     "name": "stdout",
     "output_type": "stream",
     "text": [
      "Training test score: 1.00\n",
      "Test test score: 0.99\n"
     ]
    }
   ],
   "source": [
    "print(\"Training test score: {:.2f}\".format(ridge.score(X_train, y_train)))\n",
    "print(\"Test test score: {:.2f}\".format(ridge.score(X_test, y_test)))"
   ]
  },
  {
   "cell_type": "markdown",
   "metadata": {},
   "source": [
    "### Cross-Validation and Grid Search"
   ]
  },
  {
   "cell_type": "code",
   "execution_count": 53,
   "metadata": {},
   "outputs": [
    {
     "name": "stdout",
     "output_type": "stream",
     "text": [
      "Score with alpha=0.001000: 1.00\n",
      "Score with alpha=0.010000: 1.00\n",
      "Score with alpha=0.100000: 1.00\n",
      "Score with alpha=1.000000: 1.00\n",
      "Score with alpha=10.000000: 1.00\n",
      "Score with alpha=100.000000: 1.00\n",
      "Best score on cross-validation: 1.00\n",
      "Best parameters:  {'alpha': 100}\n",
      "Test set score with best parameters: 1.00\n"
     ]
    }
   ],
   "source": [
    "best_score = 0\n",
    "\n",
    "for alpha in [0.001, 0.01, 0.1, 1, 10, 100]:\n",
    "    ridge = Ridge(alpha=alpha)\n",
    "\n",
    "    scores = cross_val_score(ridge, X_train, y_train, cv=10, n_jobs=-1)\n",
    "    \n",
    "    score = np.mean(scores)\n",
    "    \n",
    "    print(\"Score with alpha={:f}: {:.2f}\".format(alpha, score))\n",
    "    \n",
    "    if score > best_score:\n",
    "        best_score = score\n",
    "        best_parameters = {'alpha': alpha}\n",
    "\n",
    "ridge = Ridge(**best_parameters)\n",
    "ridge.fit(X_train, y_train)\n",
    "test_score = ridge.score(X_test, y_test)\n",
    "\n",
    "print(\"Best score on cross-validation: {:.2f}\".format(best_score))\n",
    "print(\"Best parameters: \", best_parameters)\n",
    "print(\"Test set score with best parameters: {:.2f}\".format(test_score))"
   ]
  },
  {
   "cell_type": "markdown",
   "metadata": {},
   "source": [
    "## Lasso Regression"
   ]
  },
  {
   "cell_type": "code",
   "execution_count": 33,
   "metadata": {},
   "outputs": [],
   "source": [
    "from sklearn.linear_model import Lasso\n",
    "\n",
    "lasso = Lasso().fit(X_train, y_train)"
   ]
  },
  {
   "cell_type": "code",
   "execution_count": 34,
   "metadata": {},
   "outputs": [
    {
     "name": "stdout",
     "output_type": "stream",
     "text": [
      "Training test score: 1.00\n",
      "Test test score: 1.00\n"
     ]
    }
   ],
   "source": [
    "print(\"Training test score: {:.2f}\".format(lasso.score(X_train, y_train)))\n",
    "print(\"Test test score: {:.2f}\".format(lasso.score(X_test, y_test)))"
   ]
  },
  {
   "cell_type": "markdown",
   "metadata": {},
   "source": [
    "### Cross-validation and Grid Search"
   ]
  },
  {
   "cell_type": "code",
   "execution_count": 58,
   "metadata": {},
   "outputs": [
    {
     "name": "stdout",
     "output_type": "stream",
     "text": [
      "Score with alpha=0.001000 and max_iter=100: 0.99\n",
      "Score with alpha=0.001000 and max_iter=1000: 0.99\n",
      "Score with alpha=0.001000 and max_iter=10000: 0.99\n",
      "Score with alpha=0.001000 and max_iter=100000: 0.99\n",
      "Score with alpha=0.010000 and max_iter=100: 0.99\n",
      "Score with alpha=0.010000 and max_iter=1000: 0.99\n",
      "Score with alpha=0.010000 and max_iter=10000: 1.00\n",
      "Score with alpha=0.010000 and max_iter=100000: 1.00\n",
      "Score with alpha=0.100000 and max_iter=100: 0.99\n",
      "Score with alpha=0.100000 and max_iter=1000: 1.00\n",
      "Score with alpha=0.100000 and max_iter=10000: 1.00\n",
      "Score with alpha=0.100000 and max_iter=100000: 1.00\n",
      "Score with alpha=1.000000 and max_iter=100: 1.00\n",
      "Score with alpha=1.000000 and max_iter=1000: 1.00\n",
      "Score with alpha=1.000000 and max_iter=10000: 1.00\n",
      "Score with alpha=1.000000 and max_iter=100000: 1.00\n",
      "Score with alpha=10.000000 and max_iter=100: 0.99\n",
      "Score with alpha=10.000000 and max_iter=1000: 0.99\n",
      "Score with alpha=10.000000 and max_iter=10000: 0.99\n",
      "Score with alpha=10.000000 and max_iter=100000: 0.99\n",
      "Score with alpha=100.000000 and max_iter=100: 0.96\n",
      "Score with alpha=100.000000 and max_iter=1000: 0.96\n",
      "Score with alpha=100.000000 and max_iter=10000: 0.96\n",
      "Score with alpha=100.000000 and max_iter=100000: 0.96\n",
      "Best score on cross-validation: 1.00\n",
      "Best parameters:  {'alpha': 0.1, 'max_iter': 1000}\n",
      "Test set score with best parameters: 1.00\n"
     ]
    },
    {
     "name": "stderr",
     "output_type": "stream",
     "text": [
      "/Users/renangreca/anaconda3/lib/python3.7/site-packages/sklearn/linear_model/coordinate_descent.py:492: ConvergenceWarning: Objective did not converge. You might want to increase the number of iterations. Fitting data with very small alpha may cause precision problems.\n",
      "  ConvergenceWarning)\n"
     ]
    }
   ],
   "source": [
    "best_score = 0\n",
    "\n",
    "for alpha in [0.001, 0.01, 0.1, 1, 10, 100]:\n",
    "    for max_iter in [100, 1000, 10000, 100000]:\n",
    "        lasso = Lasso(alpha=alpha, max_iter=max_iter)\n",
    "\n",
    "        scores = cross_val_score(lasso, X_train, y_train, cv=10)\n",
    "\n",
    "        score = np.mean(scores)\n",
    "\n",
    "        print(\"Score with alpha={:f} and max_iter={:.0f}: {:.2f}\".format(alpha, max_iter, score))\n",
    "\n",
    "        if score > best_score:\n",
    "            best_score = score\n",
    "            best_parameters = {'alpha': alpha, 'max_iter': max_iter}\n",
    "\n",
    "lasso = Lasso(**best_parameters)\n",
    "lasso.fit(X_train, y_train)\n",
    "test_score = lasso.score(X_test, y_test)\n",
    "\n",
    "print(\"Best score on cross-validation: {:.2f}\".format(best_score))\n",
    "print(\"Best parameters: \", best_parameters)\n",
    "print(\"Test set score with best parameters: {:.2f}\".format(test_score))"
   ]
  },
  {
   "cell_type": "code",
   "execution_count": null,
   "metadata": {},
   "outputs": [],
   "source": []
  }
 ],
 "metadata": {
  "kernelspec": {
   "display_name": "Python 3",
   "language": "python",
   "name": "python3"
  },
  "language_info": {
   "codemirror_mode": {
    "name": "ipython",
    "version": 3
   },
   "file_extension": ".py",
   "mimetype": "text/x-python",
   "name": "python",
   "nbconvert_exporter": "python",
   "pygments_lexer": "ipython3",
   "version": "3.7.3"
  }
 },
 "nbformat": 4,
 "nbformat_minor": 2
}
